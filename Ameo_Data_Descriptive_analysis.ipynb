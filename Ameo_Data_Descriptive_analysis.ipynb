{
  "nbformat": 4,
  "nbformat_minor": 0,
  "metadata": {
    "colab": {
      "name": "Ameo_Data_Descriptive_analysis.ipynb",
      "provenance": [],
      "authorship_tag": "ABX9TyPmFov8xIuj6XajITkLtD1I",
      "include_colab_link": true
    },
    "kernelspec": {
      "name": "python3",
      "display_name": "Python 3"
    }
  },
  "cells": [
    {
      "cell_type": "markdown",
      "metadata": {
        "id": "view-in-github",
        "colab_type": "text"
      },
      "source": [
        "<a href=\"https://colab.research.google.com/github/sebabratakundu/ameo_data_analysis/blob/master/Ameo_Data_Descriptive_analysis.ipynb\" target=\"_parent\"><img src=\"https://colab.research.google.com/assets/colab-badge.svg\" alt=\"Open In Colab\"/></a>"
      ]
    },
    {
      "cell_type": "markdown",
      "metadata": {
        "id": "C5kjJcwoOIux"
      },
      "source": [
        "# Descriptive Analysis on Ameo 2015 Data set"
      ]
    },
    {
      "cell_type": "code",
      "metadata": {
        "id": "-12yjZsiNspT"
      },
      "source": [
        "import numpy as np\n",
        "import pandas as pd\n",
        "import seaborn as sns"
      ],
      "execution_count": 86,
      "outputs": []
    },
    {
      "cell_type": "code",
      "metadata": {
        "id": "9hL5FHLehk1z"
      },
      "source": [
        "sns.set(color_codes=True)"
      ],
      "execution_count": 87,
      "outputs": []
    },
    {
      "cell_type": "code",
      "metadata": {
        "id": "ZhYiOPdZe755"
      },
      "source": [
        "df = pd.read_excel(\"train.xlsx\");"
      ],
      "execution_count": 88,
      "outputs": []
    },
    {
      "cell_type": "code",
      "metadata": {
        "id": "ixHvUuL2fApD",
        "outputId": "f0ea7fb6-7c8c-40fd-ecf5-ef144a6035bf",
        "colab": {
          "base_uri": "https://localhost:8080/",
          "height": 395
        }
      },
      "source": [
        "df.head()"
      ],
      "execution_count": 89,
      "outputs": [
        {
          "output_type": "execute_result",
          "data": {
            "text/html": [
              "<div>\n",
              "<style scoped>\n",
              "    .dataframe tbody tr th:only-of-type {\n",
              "        vertical-align: middle;\n",
              "    }\n",
              "\n",
              "    .dataframe tbody tr th {\n",
              "        vertical-align: top;\n",
              "    }\n",
              "\n",
              "    .dataframe thead th {\n",
              "        text-align: right;\n",
              "    }\n",
              "</style>\n",
              "<table border=\"1\" class=\"dataframe\">\n",
              "  <thead>\n",
              "    <tr style=\"text-align: right;\">\n",
              "      <th></th>\n",
              "      <th>Unnamed: 0</th>\n",
              "      <th>ID</th>\n",
              "      <th>Salary</th>\n",
              "      <th>DOJ</th>\n",
              "      <th>DOL</th>\n",
              "      <th>Designation</th>\n",
              "      <th>JobCity</th>\n",
              "      <th>Gender</th>\n",
              "      <th>DOB</th>\n",
              "      <th>10percentage</th>\n",
              "      <th>10board</th>\n",
              "      <th>12graduation</th>\n",
              "      <th>12percentage</th>\n",
              "      <th>12board</th>\n",
              "      <th>CollegeID</th>\n",
              "      <th>CollegeTier</th>\n",
              "      <th>Degree</th>\n",
              "      <th>Specialization</th>\n",
              "      <th>collegeGPA</th>\n",
              "      <th>CollegeCityID</th>\n",
              "      <th>CollegeCityTier</th>\n",
              "      <th>CollegeState</th>\n",
              "      <th>GraduationYear</th>\n",
              "      <th>English</th>\n",
              "      <th>Logical</th>\n",
              "      <th>Quant</th>\n",
              "      <th>Domain</th>\n",
              "      <th>ComputerProgramming</th>\n",
              "      <th>ElectronicsAndSemicon</th>\n",
              "      <th>ComputerScience</th>\n",
              "      <th>MechanicalEngg</th>\n",
              "      <th>ElectricalEngg</th>\n",
              "      <th>TelecomEngg</th>\n",
              "      <th>CivilEngg</th>\n",
              "      <th>conscientiousness</th>\n",
              "      <th>agreeableness</th>\n",
              "      <th>extraversion</th>\n",
              "      <th>nueroticism</th>\n",
              "      <th>openess_to_experience</th>\n",
              "    </tr>\n",
              "  </thead>\n",
              "  <tbody>\n",
              "    <tr>\n",
              "      <th>0</th>\n",
              "      <td>train</td>\n",
              "      <td>203097</td>\n",
              "      <td>420000</td>\n",
              "      <td>2012-06-01</td>\n",
              "      <td>present</td>\n",
              "      <td>senior quality engineer</td>\n",
              "      <td>Bangalore</td>\n",
              "      <td>f</td>\n",
              "      <td>1990-02-19</td>\n",
              "      <td>84.3</td>\n",
              "      <td>board ofsecondary education,ap</td>\n",
              "      <td>2007</td>\n",
              "      <td>95.8</td>\n",
              "      <td>board of intermediate education,ap</td>\n",
              "      <td>1141</td>\n",
              "      <td>2</td>\n",
              "      <td>B.Tech/B.E.</td>\n",
              "      <td>computer engineering</td>\n",
              "      <td>78.00</td>\n",
              "      <td>1141</td>\n",
              "      <td>0</td>\n",
              "      <td>Andhra Pradesh</td>\n",
              "      <td>2011</td>\n",
              "      <td>515</td>\n",
              "      <td>585</td>\n",
              "      <td>525</td>\n",
              "      <td>0.635979</td>\n",
              "      <td>445</td>\n",
              "      <td>-1</td>\n",
              "      <td>-1</td>\n",
              "      <td>-1</td>\n",
              "      <td>-1</td>\n",
              "      <td>-1</td>\n",
              "      <td>-1</td>\n",
              "      <td>0.9737</td>\n",
              "      <td>0.8128</td>\n",
              "      <td>0.5269</td>\n",
              "      <td>1.35490</td>\n",
              "      <td>-0.4455</td>\n",
              "    </tr>\n",
              "    <tr>\n",
              "      <th>1</th>\n",
              "      <td>train</td>\n",
              "      <td>579905</td>\n",
              "      <td>500000</td>\n",
              "      <td>2013-09-01</td>\n",
              "      <td>present</td>\n",
              "      <td>assistant manager</td>\n",
              "      <td>Indore</td>\n",
              "      <td>m</td>\n",
              "      <td>1989-10-04</td>\n",
              "      <td>85.4</td>\n",
              "      <td>cbse</td>\n",
              "      <td>2007</td>\n",
              "      <td>85.0</td>\n",
              "      <td>cbse</td>\n",
              "      <td>5807</td>\n",
              "      <td>2</td>\n",
              "      <td>B.Tech/B.E.</td>\n",
              "      <td>electronics and communication engineering</td>\n",
              "      <td>70.06</td>\n",
              "      <td>5807</td>\n",
              "      <td>0</td>\n",
              "      <td>Madhya Pradesh</td>\n",
              "      <td>2012</td>\n",
              "      <td>695</td>\n",
              "      <td>610</td>\n",
              "      <td>780</td>\n",
              "      <td>0.960603</td>\n",
              "      <td>-1</td>\n",
              "      <td>466</td>\n",
              "      <td>-1</td>\n",
              "      <td>-1</td>\n",
              "      <td>-1</td>\n",
              "      <td>-1</td>\n",
              "      <td>-1</td>\n",
              "      <td>-0.7335</td>\n",
              "      <td>0.3789</td>\n",
              "      <td>1.2396</td>\n",
              "      <td>-0.10760</td>\n",
              "      <td>0.8637</td>\n",
              "    </tr>\n",
              "    <tr>\n",
              "      <th>2</th>\n",
              "      <td>train</td>\n",
              "      <td>810601</td>\n",
              "      <td>325000</td>\n",
              "      <td>2014-06-01</td>\n",
              "      <td>present</td>\n",
              "      <td>systems engineer</td>\n",
              "      <td>Chennai</td>\n",
              "      <td>f</td>\n",
              "      <td>1992-08-03</td>\n",
              "      <td>85.0</td>\n",
              "      <td>cbse</td>\n",
              "      <td>2010</td>\n",
              "      <td>68.2</td>\n",
              "      <td>cbse</td>\n",
              "      <td>64</td>\n",
              "      <td>2</td>\n",
              "      <td>B.Tech/B.E.</td>\n",
              "      <td>information technology</td>\n",
              "      <td>70.00</td>\n",
              "      <td>64</td>\n",
              "      <td>0</td>\n",
              "      <td>Uttar Pradesh</td>\n",
              "      <td>2014</td>\n",
              "      <td>615</td>\n",
              "      <td>545</td>\n",
              "      <td>370</td>\n",
              "      <td>0.450877</td>\n",
              "      <td>395</td>\n",
              "      <td>-1</td>\n",
              "      <td>-1</td>\n",
              "      <td>-1</td>\n",
              "      <td>-1</td>\n",
              "      <td>-1</td>\n",
              "      <td>-1</td>\n",
              "      <td>0.2718</td>\n",
              "      <td>1.7109</td>\n",
              "      <td>0.1637</td>\n",
              "      <td>-0.86820</td>\n",
              "      <td>0.6721</td>\n",
              "    </tr>\n",
              "    <tr>\n",
              "      <th>3</th>\n",
              "      <td>train</td>\n",
              "      <td>267447</td>\n",
              "      <td>1100000</td>\n",
              "      <td>2011-07-01</td>\n",
              "      <td>present</td>\n",
              "      <td>senior software engineer</td>\n",
              "      <td>Gurgaon</td>\n",
              "      <td>m</td>\n",
              "      <td>1989-12-05</td>\n",
              "      <td>85.6</td>\n",
              "      <td>cbse</td>\n",
              "      <td>2007</td>\n",
              "      <td>83.6</td>\n",
              "      <td>cbse</td>\n",
              "      <td>6920</td>\n",
              "      <td>1</td>\n",
              "      <td>B.Tech/B.E.</td>\n",
              "      <td>computer engineering</td>\n",
              "      <td>74.64</td>\n",
              "      <td>6920</td>\n",
              "      <td>1</td>\n",
              "      <td>Delhi</td>\n",
              "      <td>2011</td>\n",
              "      <td>635</td>\n",
              "      <td>585</td>\n",
              "      <td>625</td>\n",
              "      <td>0.974396</td>\n",
              "      <td>615</td>\n",
              "      <td>-1</td>\n",
              "      <td>-1</td>\n",
              "      <td>-1</td>\n",
              "      <td>-1</td>\n",
              "      <td>-1</td>\n",
              "      <td>-1</td>\n",
              "      <td>0.0464</td>\n",
              "      <td>0.3448</td>\n",
              "      <td>-0.3440</td>\n",
              "      <td>-0.40780</td>\n",
              "      <td>-0.9194</td>\n",
              "    </tr>\n",
              "    <tr>\n",
              "      <th>4</th>\n",
              "      <td>train</td>\n",
              "      <td>343523</td>\n",
              "      <td>200000</td>\n",
              "      <td>2014-03-01</td>\n",
              "      <td>2015-03-01 00:00:00</td>\n",
              "      <td>get</td>\n",
              "      <td>Manesar</td>\n",
              "      <td>m</td>\n",
              "      <td>1991-02-27</td>\n",
              "      <td>78.0</td>\n",
              "      <td>cbse</td>\n",
              "      <td>2008</td>\n",
              "      <td>76.8</td>\n",
              "      <td>cbse</td>\n",
              "      <td>11368</td>\n",
              "      <td>2</td>\n",
              "      <td>B.Tech/B.E.</td>\n",
              "      <td>electronics and communication engineering</td>\n",
              "      <td>73.90</td>\n",
              "      <td>11368</td>\n",
              "      <td>0</td>\n",
              "      <td>Uttar Pradesh</td>\n",
              "      <td>2012</td>\n",
              "      <td>545</td>\n",
              "      <td>625</td>\n",
              "      <td>465</td>\n",
              "      <td>0.124502</td>\n",
              "      <td>-1</td>\n",
              "      <td>233</td>\n",
              "      <td>-1</td>\n",
              "      <td>-1</td>\n",
              "      <td>-1</td>\n",
              "      <td>-1</td>\n",
              "      <td>-1</td>\n",
              "      <td>-0.8810</td>\n",
              "      <td>-0.2793</td>\n",
              "      <td>-1.0697</td>\n",
              "      <td>0.09163</td>\n",
              "      <td>-0.1295</td>\n",
              "    </tr>\n",
              "  </tbody>\n",
              "</table>\n",
              "</div>"
            ],
            "text/plain": [
              "  Unnamed: 0      ID   Salary  ... extraversion nueroticism openess_to_experience\n",
              "0      train  203097   420000  ...       0.5269     1.35490               -0.4455\n",
              "1      train  579905   500000  ...       1.2396    -0.10760                0.8637\n",
              "2      train  810601   325000  ...       0.1637    -0.86820                0.6721\n",
              "3      train  267447  1100000  ...      -0.3440    -0.40780               -0.9194\n",
              "4      train  343523   200000  ...      -1.0697     0.09163               -0.1295\n",
              "\n",
              "[5 rows x 39 columns]"
            ]
          },
          "metadata": {
            "tags": []
          },
          "execution_count": 89
        }
      ]
    },
    {
      "cell_type": "code",
      "metadata": {
        "id": "LF2E1ZO7fK5z",
        "outputId": "a5095b37-88f6-4dcb-a0db-565dd44a0f3e",
        "colab": {
          "base_uri": "https://localhost:8080/",
          "height": 35
        }
      },
      "source": [
        "df.shape"
      ],
      "execution_count": 90,
      "outputs": [
        {
          "output_type": "execute_result",
          "data": {
            "text/plain": [
              "(3998, 39)"
            ]
          },
          "metadata": {
            "tags": []
          },
          "execution_count": 90
        }
      ]
    },
    {
      "cell_type": "code",
      "metadata": {
        "id": "HYxv_7ZffQFY",
        "outputId": "b7e88698-6a30-4d91-ad9c-9524f61853a4",
        "colab": {
          "base_uri": "https://localhost:8080/",
          "height": 815
        }
      },
      "source": [
        "df.info()"
      ],
      "execution_count": 91,
      "outputs": [
        {
          "output_type": "stream",
          "text": [
            "<class 'pandas.core.frame.DataFrame'>\n",
            "RangeIndex: 3998 entries, 0 to 3997\n",
            "Data columns (total 39 columns):\n",
            " #   Column                 Non-Null Count  Dtype         \n",
            "---  ------                 --------------  -----         \n",
            " 0   Unnamed: 0             3998 non-null   object        \n",
            " 1   ID                     3998 non-null   int64         \n",
            " 2   Salary                 3998 non-null   int64         \n",
            " 3   DOJ                    3998 non-null   datetime64[ns]\n",
            " 4   DOL                    3998 non-null   object        \n",
            " 5   Designation            3998 non-null   object        \n",
            " 6   JobCity                3998 non-null   object        \n",
            " 7   Gender                 3998 non-null   object        \n",
            " 8   DOB                    3998 non-null   datetime64[ns]\n",
            " 9   10percentage           3998 non-null   float64       \n",
            " 10  10board                3998 non-null   object        \n",
            " 11  12graduation           3998 non-null   int64         \n",
            " 12  12percentage           3998 non-null   float64       \n",
            " 13  12board                3998 non-null   object        \n",
            " 14  CollegeID              3998 non-null   int64         \n",
            " 15  CollegeTier            3998 non-null   int64         \n",
            " 16  Degree                 3998 non-null   object        \n",
            " 17  Specialization         3998 non-null   object        \n",
            " 18  collegeGPA             3998 non-null   float64       \n",
            " 19  CollegeCityID          3998 non-null   int64         \n",
            " 20  CollegeCityTier        3998 non-null   int64         \n",
            " 21  CollegeState           3998 non-null   object        \n",
            " 22  GraduationYear         3998 non-null   int64         \n",
            " 23  English                3998 non-null   int64         \n",
            " 24  Logical                3998 non-null   int64         \n",
            " 25  Quant                  3998 non-null   int64         \n",
            " 26  Domain                 3998 non-null   float64       \n",
            " 27  ComputerProgramming    3998 non-null   int64         \n",
            " 28  ElectronicsAndSemicon  3998 non-null   int64         \n",
            " 29  ComputerScience        3998 non-null   int64         \n",
            " 30  MechanicalEngg         3998 non-null   int64         \n",
            " 31  ElectricalEngg         3998 non-null   int64         \n",
            " 32  TelecomEngg            3998 non-null   int64         \n",
            " 33  CivilEngg              3998 non-null   int64         \n",
            " 34  conscientiousness      3998 non-null   float64       \n",
            " 35  agreeableness          3998 non-null   float64       \n",
            " 36  extraversion           3998 non-null   float64       \n",
            " 37  nueroticism            3998 non-null   float64       \n",
            " 38  openess_to_experience  3998 non-null   float64       \n",
            "dtypes: datetime64[ns](2), float64(9), int64(18), object(10)\n",
            "memory usage: 1.2+ MB\n"
          ],
          "name": "stdout"
        }
      ]
    },
    {
      "cell_type": "code",
      "metadata": {
        "id": "7Vq3NJwhfSdN",
        "outputId": "ad2dcb7f-1835-4a3f-8229-669ab458823a",
        "colab": {
          "base_uri": "https://localhost:8080/",
          "height": 35
        }
      },
      "source": [
        "df.isnull().sum().sum()"
      ],
      "execution_count": 92,
      "outputs": [
        {
          "output_type": "execute_result",
          "data": {
            "text/plain": [
              "0"
            ]
          },
          "metadata": {
            "tags": []
          },
          "execution_count": 92
        }
      ]
    },
    {
      "cell_type": "code",
      "metadata": {
        "id": "1ugngvrfhJZK",
        "outputId": "941deb8d-150e-4f6f-cbfa-43ad91c2840d",
        "colab": {
          "base_uri": "https://localhost:8080/",
          "height": 35
        }
      },
      "source": [
        "df.Gender.unique()"
      ],
      "execution_count": 93,
      "outputs": [
        {
          "output_type": "execute_result",
          "data": {
            "text/plain": [
              "array(['f', 'm'], dtype=object)"
            ]
          },
          "metadata": {
            "tags": []
          },
          "execution_count": 93
        }
      ]
    },
    {
      "cell_type": "code",
      "metadata": {
        "id": "ZBrUbALLhXNW",
        "outputId": "005e9692-5573-4c28-849e-450e6c5e7c08",
        "colab": {
          "base_uri": "https://localhost:8080/",
          "height": 296
        }
      },
      "source": [
        "sns.violinplot(x=\"Gender\",y=\"Salary\",data=df);"
      ],
      "execution_count": 94,
      "outputs": [
        {
          "output_type": "display_data",
          "data": {
            "image/png": "[encoded data removed]",
            "text/plain": [
              "<Figure size 432x288 with 1 Axes>"
            ]
          },
          "metadata": {
            "tags": []
          }
        }
      ]
    },
    {
      "cell_type": "code",
      "metadata": {
        "id": "dL3vFSCWhxIn",
        "outputId": "a561a986-da11-42fb-b61e-8a3245ad17db",
        "colab": {
          "base_uri": "https://localhost:8080/",
          "height": 141
        }
      },
      "source": [
        "df[[\"10percentage\",\"12percentage\",\"collegeGPA\",\"Gender\"]].groupby(\"Gender\").mean()"
      ],
      "execution_count": 95,
      "outputs": [
        {
          "output_type": "execute_result",
          "data": {
            "text/html": [
              "<div>\n",
              "<style scoped>\n",
              "    .dataframe tbody tr th:only-of-type {\n",
              "        vertical-align: middle;\n",
              "    }\n",
              "\n",
              "    .dataframe tbody tr th {\n",
              "        vertical-align: top;\n",
              "    }\n",
              "\n",
              "    .dataframe thead th {\n",
              "        text-align: right;\n",
              "    }\n",
              "</style>\n",
              "<table border=\"1\" class=\"dataframe\">\n",
              "  <thead>\n",
              "    <tr style=\"text-align: right;\">\n",
              "      <th></th>\n",
              "      <th>10percentage</th>\n",
              "      <th>12percentage</th>\n",
              "      <th>collegeGPA</th>\n",
              "    </tr>\n",
              "    <tr>\n",
              "      <th>Gender</th>\n",
              "      <th></th>\n",
              "      <th></th>\n",
              "      <th></th>\n",
              "    </tr>\n",
              "  </thead>\n",
              "  <tbody>\n",
              "    <tr>\n",
              "      <th>f</th>\n",
              "      <td>80.932894</td>\n",
              "      <td>77.007618</td>\n",
              "      <td>74.048056</td>\n",
              "    </tr>\n",
              "    <tr>\n",
              "      <th>m</th>\n",
              "      <td>76.979000</td>\n",
              "      <td>73.666636</td>\n",
              "      <td>70.679947</td>\n",
              "    </tr>\n",
              "  </tbody>\n",
              "</table>\n",
              "</div>"
            ],
            "text/plain": [
              "        10percentage  12percentage  collegeGPA\n",
              "Gender                                        \n",
              "f          80.932894     77.007618   74.048056\n",
              "m          76.979000     73.666636   70.679947"
            ]
          },
          "metadata": {
            "tags": []
          },
          "execution_count": 95
        }
      ]
    },
    {
      "cell_type": "code",
      "metadata": {
        "id": "ut9CUKwBiCWJ",
        "outputId": "0b40e3fc-d94c-4b9f-9a3d-a3c20d6e0aaf",
        "colab": {
          "base_uri": "https://localhost:8080/",
          "height": 141
        }
      },
      "source": [
        "df[[\"10percentage\",\"12percentage\",\"collegeGPA\",\"Gender\"]].groupby(\"Gender\").median()"
      ],
      "execution_count": 96,
      "outputs": [
        {
          "output_type": "execute_result",
          "data": {
            "text/html": [
              "<div>\n",
              "<style scoped>\n",
              "    .dataframe tbody tr th:only-of-type {\n",
              "        vertical-align: middle;\n",
              "    }\n",
              "\n",
              "    .dataframe tbody tr th {\n",
              "        vertical-align: top;\n",
              "    }\n",
              "\n",
              "    .dataframe thead th {\n",
              "        text-align: right;\n",
              "    }\n",
              "</style>\n",
              "<table border=\"1\" class=\"dataframe\">\n",
              "  <thead>\n",
              "    <tr style=\"text-align: right;\">\n",
              "      <th></th>\n",
              "      <th>10percentage</th>\n",
              "      <th>12percentage</th>\n",
              "      <th>collegeGPA</th>\n",
              "    </tr>\n",
              "    <tr>\n",
              "      <th>Gender</th>\n",
              "      <th></th>\n",
              "      <th></th>\n",
              "      <th></th>\n",
              "    </tr>\n",
              "  </thead>\n",
              "  <tbody>\n",
              "    <tr>\n",
              "      <th>f</th>\n",
              "      <td>82.4</td>\n",
              "      <td>77.0</td>\n",
              "      <td>74.00</td>\n",
              "    </tr>\n",
              "    <tr>\n",
              "      <th>m</th>\n",
              "      <td>78.0</td>\n",
              "      <td>73.4</td>\n",
              "      <td>70.66</td>\n",
              "    </tr>\n",
              "  </tbody>\n",
              "</table>\n",
              "</div>"
            ],
            "text/plain": [
              "        10percentage  12percentage  collegeGPA\n",
              "Gender                                        \n",
              "f               82.4          77.0       74.00\n",
              "m               78.0          73.4       70.66"
            ]
          },
          "metadata": {
            "tags": []
          },
          "execution_count": 96
        }
      ]
    },
    {
      "cell_type": "code",
      "metadata": {
        "id": "oTDu5wn7kB7k",
        "outputId": "9e2688f9-3bfd-4c95-d4d3-8eee40b90956",
        "colab": {
          "base_uri": "https://localhost:8080/",
          "height": 141
        }
      },
      "source": [
        "df[[\"10percentage\",\"12percentage\",\"collegeGPA\",\"Gender\"]].groupby(\"Gender\").count()"
      ],
      "execution_count": 97,
      "outputs": [
        {
          "output_type": "execute_result",
          "data": {
            "text/html": [
              "<div>\n",
              "<style scoped>\n",
              "    .dataframe tbody tr th:only-of-type {\n",
              "        vertical-align: middle;\n",
              "    }\n",
              "\n",
              "    .dataframe tbody tr th {\n",
              "        vertical-align: top;\n",
              "    }\n",
              "\n",
              "    .dataframe thead th {\n",
              "        text-align: right;\n",
              "    }\n",
              "</style>\n",
              "<table border=\"1\" class=\"dataframe\">\n",
              "  <thead>\n",
              "    <tr style=\"text-align: right;\">\n",
              "      <th></th>\n",
              "      <th>10percentage</th>\n",
              "      <th>12percentage</th>\n",
              "      <th>collegeGPA</th>\n",
              "    </tr>\n",
              "    <tr>\n",
              "      <th>Gender</th>\n",
              "      <th></th>\n",
              "      <th></th>\n",
              "      <th></th>\n",
              "    </tr>\n",
              "  </thead>\n",
              "  <tbody>\n",
              "    <tr>\n",
              "      <th>f</th>\n",
              "      <td>957</td>\n",
              "      <td>957</td>\n",
              "      <td>957</td>\n",
              "    </tr>\n",
              "    <tr>\n",
              "      <th>m</th>\n",
              "      <td>3041</td>\n",
              "      <td>3041</td>\n",
              "      <td>3041</td>\n",
              "    </tr>\n",
              "  </tbody>\n",
              "</table>\n",
              "</div>"
            ],
            "text/plain": [
              "        10percentage  12percentage  collegeGPA\n",
              "Gender                                        \n",
              "f                957           957         957\n",
              "m               3041          3041        3041"
            ]
          },
          "metadata": {
            "tags": []
          },
          "execution_count": 97
        }
      ]
    },
    {
      "cell_type": "code",
      "metadata": {
        "id": "GglGdDVpiQLu",
        "outputId": "ab3d8b69-d034-473c-980a-131deee8012c",
        "colab": {
          "base_uri": "https://localhost:8080/",
          "height": 141
        }
      },
      "source": [
        "df[[\"Salary\",\"Gender\"]].groupby(\"Gender\").count()"
      ],
      "execution_count": 98,
      "outputs": [
        {
          "output_type": "execute_result",
          "data": {
            "text/html": [
              "<div>\n",
              "<style scoped>\n",
              "    .dataframe tbody tr th:only-of-type {\n",
              "        vertical-align: middle;\n",
              "    }\n",
              "\n",
              "    .dataframe tbody tr th {\n",
              "        vertical-align: top;\n",
              "    }\n",
              "\n",
              "    .dataframe thead th {\n",
              "        text-align: right;\n",
              "    }\n",
              "</style>\n",
              "<table border=\"1\" class=\"dataframe\">\n",
              "  <thead>\n",
              "    <tr style=\"text-align: right;\">\n",
              "      <th></th>\n",
              "      <th>Salary</th>\n",
              "    </tr>\n",
              "    <tr>\n",
              "      <th>Gender</th>\n",
              "      <th></th>\n",
              "    </tr>\n",
              "  </thead>\n",
              "  <tbody>\n",
              "    <tr>\n",
              "      <th>f</th>\n",
              "      <td>957</td>\n",
              "    </tr>\n",
              "    <tr>\n",
              "      <th>m</th>\n",
              "      <td>3041</td>\n",
              "    </tr>\n",
              "  </tbody>\n",
              "</table>\n",
              "</div>"
            ],
            "text/plain": [
              "        Salary\n",
              "Gender        \n",
              "f          957\n",
              "m         3041"
            ]
          },
          "metadata": {
            "tags": []
          },
          "execution_count": 98
        }
      ]
    },
    {
      "cell_type": "code",
      "metadata": {
        "id": "7a9lU_4jjXGz",
        "outputId": "3d1338fa-f00a-473a-b8db-c15d15ac9d46",
        "colab": {
          "base_uri": "https://localhost:8080/",
          "height": 35
        }
      },
      "source": [
        "print(\"Female percentage : \", 957/(3041+957)*100)"
      ],
      "execution_count": 99,
      "outputs": [
        {
          "output_type": "stream",
          "text": [
            "Female percentage :  23.936968484242122\n"
          ],
          "name": "stdout"
        }
      ]
    },
    {
      "cell_type": "code",
      "metadata": {
        "id": "JDM-G8j-kNJH",
        "outputId": "c9936597-dcba-40d3-9f89-9dda3a0dbb3d",
        "colab": {
          "base_uri": "https://localhost:8080/",
          "height": 35
        }
      },
      "source": [
        "print(\"Male percentage : \", 3041/(3041+957)*100)"
      ],
      "execution_count": 100,
      "outputs": [
        {
          "output_type": "stream",
          "text": [
            "Male percentage :  76.06303151575788\n"
          ],
          "name": "stdout"
        }
      ]
    },
    {
      "cell_type": "code",
      "metadata": {
        "id": "Q1jMW5lnkSc4",
        "outputId": "ead7ba16-f9a3-407b-facf-94c7ebf793eb",
        "colab": {
          "base_uri": "https://localhost:8080/",
          "height": 141
        }
      },
      "source": [
        "df[[\"conscientiousness\",\"agreeableness\",\"extraversion\",\"nueroticism\",\"openess_to_experience\",\"Gender\"]].groupby(\"Gender\").mean()"
      ],
      "execution_count": 101,
      "outputs": [
        {
          "output_type": "execute_result",
          "data": {
            "text/html": [
              "<div>\n",
              "<style scoped>\n",
              "    .dataframe tbody tr th:only-of-type {\n",
              "        vertical-align: middle;\n",
              "    }\n",
              "\n",
              "    .dataframe tbody tr th {\n",
              "        vertical-align: top;\n",
              "    }\n",
              "\n",
              "    .dataframe thead th {\n",
              "        text-align: right;\n",
              "    }\n",
              "</style>\n",
              "<table border=\"1\" class=\"dataframe\">\n",
              "  <thead>\n",
              "    <tr style=\"text-align: right;\">\n",
              "      <th></th>\n",
              "      <th>conscientiousness</th>\n",
              "      <th>agreeableness</th>\n",
              "      <th>extraversion</th>\n",
              "      <th>nueroticism</th>\n",
              "      <th>openess_to_experience</th>\n",
              "    </tr>\n",
              "    <tr>\n",
              "      <th>Gender</th>\n",
              "      <th></th>\n",
              "      <th></th>\n",
              "      <th></th>\n",
              "      <th></th>\n",
              "      <th></th>\n",
              "    </tr>\n",
              "  </thead>\n",
              "  <tbody>\n",
              "    <tr>\n",
              "      <th>f</th>\n",
              "      <td>0.121034</td>\n",
              "      <td>0.292444</td>\n",
              "      <td>0.012173</td>\n",
              "      <td>-0.179358</td>\n",
              "      <td>0.038246</td>\n",
              "    </tr>\n",
              "    <tr>\n",
              "      <th>m</th>\n",
              "      <td>-0.087826</td>\n",
              "      <td>0.100566</td>\n",
              "      <td>-0.000198</td>\n",
              "      <td>-0.165783</td>\n",
              "      <td>-0.193609</td>\n",
              "    </tr>\n",
              "  </tbody>\n",
              "</table>\n",
              "</div>"
            ],
            "text/plain": [
              "        conscientiousness  agreeableness  ...  nueroticism  openess_to_experience\n",
              "Gender                                    ...                                    \n",
              "f                0.121034       0.292444  ...    -0.179358               0.038246\n",
              "m               -0.087826       0.100566  ...    -0.165783              -0.193609\n",
              "\n",
              "[2 rows x 5 columns]"
            ]
          },
          "metadata": {
            "tags": []
          },
          "execution_count": 101
        }
      ]
    },
    {
      "cell_type": "code",
      "metadata": {
        "id": "rveSM6eokplf",
        "outputId": "64d8ce9c-80c1-4310-b403-5f331f9600ff",
        "colab": {
          "base_uri": "https://localhost:8080/",
          "height": 141
        }
      },
      "source": [
        "df[[\"conscientiousness\",\"agreeableness\",\"extraversion\",\"nueroticism\",\"openess_to_experience\",\"Gender\"]].groupby(\"Gender\").median()"
      ],
      "execution_count": 102,
      "outputs": [
        {
          "output_type": "execute_result",
          "data": {
            "text/html": [
              "<div>\n",
              "<style scoped>\n",
              "    .dataframe tbody tr th:only-of-type {\n",
              "        vertical-align: middle;\n",
              "    }\n",
              "\n",
              "    .dataframe tbody tr th {\n",
              "        vertical-align: top;\n",
              "    }\n",
              "\n",
              "    .dataframe thead th {\n",
              "        text-align: right;\n",
              "    }\n",
              "</style>\n",
              "<table border=\"1\" class=\"dataframe\">\n",
              "  <thead>\n",
              "    <tr style=\"text-align: right;\">\n",
              "      <th></th>\n",
              "      <th>conscientiousness</th>\n",
              "      <th>agreeableness</th>\n",
              "      <th>extraversion</th>\n",
              "      <th>nueroticism</th>\n",
              "      <th>openess_to_experience</th>\n",
              "    </tr>\n",
              "    <tr>\n",
              "      <th>Gender</th>\n",
              "      <th></th>\n",
              "      <th></th>\n",
              "      <th></th>\n",
              "      <th></th>\n",
              "      <th></th>\n",
              "    </tr>\n",
              "  </thead>\n",
              "  <tbody>\n",
              "    <tr>\n",
              "      <th>f</th>\n",
              "      <td>0.2718</td>\n",
              "      <td>0.3789</td>\n",
              "      <td>0.0914</td>\n",
              "      <td>-0.23440</td>\n",
              "      <td>0.0973</td>\n",
              "    </tr>\n",
              "    <tr>\n",
              "      <th>m</th>\n",
              "      <td>-0.0154</td>\n",
              "      <td>0.2124</td>\n",
              "      <td>0.0914</td>\n",
              "      <td>-0.17277</td>\n",
              "      <td>-0.0943</td>\n",
              "    </tr>\n",
              "  </tbody>\n",
              "</table>\n",
              "</div>"
            ],
            "text/plain": [
              "        conscientiousness  agreeableness  ...  nueroticism  openess_to_experience\n",
              "Gender                                    ...                                    \n",
              "f                  0.2718         0.3789  ...     -0.23440                 0.0973\n",
              "m                 -0.0154         0.2124  ...     -0.17277                -0.0943\n",
              "\n",
              "[2 rows x 5 columns]"
            ]
          },
          "metadata": {
            "tags": []
          },
          "execution_count": 102
        }
      ]
    },
    {
      "cell_type": "code",
      "metadata": {
        "id": "Viu31rGokvG7",
        "outputId": "b033511c-422f-408a-9ec2-0a8970e9136d",
        "colab": {
          "base_uri": "https://localhost:8080/",
          "height": 141
        }
      },
      "source": [
        "df[[\"Salary\",\"Gender\"]].groupby(\"Gender\").mean()"
      ],
      "execution_count": 103,
      "outputs": [
        {
          "output_type": "execute_result",
          "data": {
            "text/html": [
              "<div>\n",
              "<style scoped>\n",
              "    .dataframe tbody tr th:only-of-type {\n",
              "        vertical-align: middle;\n",
              "    }\n",
              "\n",
              "    .dataframe tbody tr th {\n",
              "        vertical-align: top;\n",
              "    }\n",
              "\n",
              "    .dataframe thead th {\n",
              "        text-align: right;\n",
              "    }\n",
              "</style>\n",
              "<table border=\"1\" class=\"dataframe\">\n",
              "  <thead>\n",
              "    <tr style=\"text-align: right;\">\n",
              "      <th></th>\n",
              "      <th>Salary</th>\n",
              "    </tr>\n",
              "    <tr>\n",
              "      <th>Gender</th>\n",
              "      <th></th>\n",
              "    </tr>\n",
              "  </thead>\n",
              "  <tbody>\n",
              "    <tr>\n",
              "      <th>f</th>\n",
              "      <td>294937.304075</td>\n",
              "    </tr>\n",
              "    <tr>\n",
              "      <th>m</th>\n",
              "      <td>311716.211772</td>\n",
              "    </tr>\n",
              "  </tbody>\n",
              "</table>\n",
              "</div>"
            ],
            "text/plain": [
              "               Salary\n",
              "Gender               \n",
              "f       294937.304075\n",
              "m       311716.211772"
            ]
          },
          "metadata": {
            "tags": []
          },
          "execution_count": 103
        }
      ]
    },
    {
      "cell_type": "code",
      "metadata": {
        "id": "PkSoheZzlPZA",
        "outputId": "4289a789-5b8f-474b-d472-c578540faa6a",
        "colab": {
          "base_uri": "https://localhost:8080/",
          "height": 141
        }
      },
      "source": [
        "df[[\"Salary\",\"Gender\"]].groupby(\"Gender\").median() #definately there are outliers"
      ],
      "execution_count": 104,
      "outputs": [
        {
          "output_type": "execute_result",
          "data": {
            "text/html": [
              "<div>\n",
              "<style scoped>\n",
              "    .dataframe tbody tr th:only-of-type {\n",
              "        vertical-align: middle;\n",
              "    }\n",
              "\n",
              "    .dataframe tbody tr th {\n",
              "        vertical-align: top;\n",
              "    }\n",
              "\n",
              "    .dataframe thead th {\n",
              "        text-align: right;\n",
              "    }\n",
              "</style>\n",
              "<table border=\"1\" class=\"dataframe\">\n",
              "  <thead>\n",
              "    <tr style=\"text-align: right;\">\n",
              "      <th></th>\n",
              "      <th>Salary</th>\n",
              "    </tr>\n",
              "    <tr>\n",
              "      <th>Gender</th>\n",
              "      <th></th>\n",
              "    </tr>\n",
              "  </thead>\n",
              "  <tbody>\n",
              "    <tr>\n",
              "      <th>f</th>\n",
              "      <td>300000</td>\n",
              "    </tr>\n",
              "    <tr>\n",
              "      <th>m</th>\n",
              "      <td>300000</td>\n",
              "    </tr>\n",
              "  </tbody>\n",
              "</table>\n",
              "</div>"
            ],
            "text/plain": [
              "        Salary\n",
              "Gender        \n",
              "f       300000\n",
              "m       300000"
            ]
          },
          "metadata": {
            "tags": []
          },
          "execution_count": 104
        }
      ]
    },
    {
      "cell_type": "code",
      "metadata": {
        "id": "WCK96t9qlXMJ"
      },
      "source": [
        "th = df.Salary.mean() + df.Salary.std()"
      ],
      "execution_count": 105,
      "outputs": []
    },
    {
      "cell_type": "code",
      "metadata": {
        "id": "v1HaPoYnmF0_",
        "outputId": "75fb55f9-70fb-4308-b12d-c987df0f853d",
        "colab": {
          "base_uri": "https://localhost:8080/",
          "height": 35
        }
      },
      "source": [
        "th"
      ],
      "execution_count": 106,
      "outputs": [
        {
          "output_type": "execute_result",
          "data": {
            "text/plain": [
              "520437.3498818199"
            ]
          },
          "metadata": {
            "tags": []
          },
          "execution_count": 106
        }
      ]
    },
    {
      "cell_type": "code",
      "metadata": {
        "id": "u6QNT03Pl3Zb"
      },
      "source": [
        "df[\"HighIncome\"] = df.Salary > th;"
      ],
      "execution_count": 107,
      "outputs": []
    },
    {
      "cell_type": "code",
      "metadata": {
        "id": "RqiBWH81l-_O",
        "outputId": "ff959c06-d95e-4c42-abf0-c0256dcf59e0",
        "colab": {
          "base_uri": "https://localhost:8080/",
          "height": 395
        }
      },
      "source": [
        "df.head()"
      ],
      "execution_count": 108,
      "outputs": [
        {
          "output_type": "execute_result",
          "data": {
            "text/html": [
              "<div>\n",
              "<style scoped>\n",
              "    .dataframe tbody tr th:only-of-type {\n",
              "        vertical-align: middle;\n",
              "    }\n",
              "\n",
              "    .dataframe tbody tr th {\n",
              "        vertical-align: top;\n",
              "    }\n",
              "\n",
              "    .dataframe thead th {\n",
              "        text-align: right;\n",
              "    }\n",
              "</style>\n",
              "<table border=\"1\" class=\"dataframe\">\n",
              "  <thead>\n",
              "    <tr style=\"text-align: right;\">\n",
              "      <th></th>\n",
              "      <th>Unnamed: 0</th>\n",
              "      <th>ID</th>\n",
              "      <th>Salary</th>\n",
              "      <th>DOJ</th>\n",
              "      <th>DOL</th>\n",
              "      <th>Designation</th>\n",
              "      <th>JobCity</th>\n",
              "      <th>Gender</th>\n",
              "      <th>DOB</th>\n",
              "      <th>10percentage</th>\n",
              "      <th>10board</th>\n",
              "      <th>12graduation</th>\n",
              "      <th>12percentage</th>\n",
              "      <th>12board</th>\n",
              "      <th>CollegeID</th>\n",
              "      <th>CollegeTier</th>\n",
              "      <th>Degree</th>\n",
              "      <th>Specialization</th>\n",
              "      <th>collegeGPA</th>\n",
              "      <th>CollegeCityID</th>\n",
              "      <th>CollegeCityTier</th>\n",
              "      <th>CollegeState</th>\n",
              "      <th>GraduationYear</th>\n",
              "      <th>English</th>\n",
              "      <th>Logical</th>\n",
              "      <th>Quant</th>\n",
              "      <th>Domain</th>\n",
              "      <th>ComputerProgramming</th>\n",
              "      <th>ElectronicsAndSemicon</th>\n",
              "      <th>ComputerScience</th>\n",
              "      <th>MechanicalEngg</th>\n",
              "      <th>ElectricalEngg</th>\n",
              "      <th>TelecomEngg</th>\n",
              "      <th>CivilEngg</th>\n",
              "      <th>conscientiousness</th>\n",
              "      <th>agreeableness</th>\n",
              "      <th>extraversion</th>\n",
              "      <th>nueroticism</th>\n",
              "      <th>openess_to_experience</th>\n",
              "      <th>HighIncome</th>\n",
              "    </tr>\n",
              "  </thead>\n",
              "  <tbody>\n",
              "    <tr>\n",
              "      <th>0</th>\n",
              "      <td>train</td>\n",
              "      <td>203097</td>\n",
              "      <td>420000</td>\n",
              "      <td>2012-06-01</td>\n",
              "      <td>present</td>\n",
              "      <td>senior quality engineer</td>\n",
              "      <td>Bangalore</td>\n",
              "      <td>f</td>\n",
              "      <td>1990-02-19</td>\n",
              "      <td>84.3</td>\n",
              "      <td>board ofsecondary education,ap</td>\n",
              "      <td>2007</td>\n",
              "      <td>95.8</td>\n",
              "      <td>board of intermediate education,ap</td>\n",
              "      <td>1141</td>\n",
              "      <td>2</td>\n",
              "      <td>B.Tech/B.E.</td>\n",
              "      <td>computer engineering</td>\n",
              "      <td>78.00</td>\n",
              "      <td>1141</td>\n",
              "      <td>0</td>\n",
              "      <td>Andhra Pradesh</td>\n",
              "      <td>2011</td>\n",
              "      <td>515</td>\n",
              "      <td>585</td>\n",
              "      <td>525</td>\n",
              "      <td>0.635979</td>\n",
              "      <td>445</td>\n",
              "      <td>-1</td>\n",
              "      <td>-1</td>\n",
              "      <td>-1</td>\n",
              "      <td>-1</td>\n",
              "      <td>-1</td>\n",
              "      <td>-1</td>\n",
              "      <td>0.9737</td>\n",
              "      <td>0.8128</td>\n",
              "      <td>0.5269</td>\n",
              "      <td>1.35490</td>\n",
              "      <td>-0.4455</td>\n",
              "      <td>False</td>\n",
              "    </tr>\n",
              "    <tr>\n",
              "      <th>1</th>\n",
              "      <td>train</td>\n",
              "      <td>579905</td>\n",
              "      <td>500000</td>\n",
              "      <td>2013-09-01</td>\n",
              "      <td>present</td>\n",
              "      <td>assistant manager</td>\n",
              "      <td>Indore</td>\n",
              "      <td>m</td>\n",
              "      <td>1989-10-04</td>\n",
              "      <td>85.4</td>\n",
              "      <td>cbse</td>\n",
              "      <td>2007</td>\n",
              "      <td>85.0</td>\n",
              "      <td>cbse</td>\n",
              "      <td>5807</td>\n",
              "      <td>2</td>\n",
              "      <td>B.Tech/B.E.</td>\n",
              "      <td>electronics and communication engineering</td>\n",
              "      <td>70.06</td>\n",
              "      <td>5807</td>\n",
              "      <td>0</td>\n",
              "      <td>Madhya Pradesh</td>\n",
              "      <td>2012</td>\n",
              "      <td>695</td>\n",
              "      <td>610</td>\n",
              "      <td>780</td>\n",
              "      <td>0.960603</td>\n",
              "      <td>-1</td>\n",
              "      <td>466</td>\n",
              "      <td>-1</td>\n",
              "      <td>-1</td>\n",
              "      <td>-1</td>\n",
              "      <td>-1</td>\n",
              "      <td>-1</td>\n",
              "      <td>-0.7335</td>\n",
              "      <td>0.3789</td>\n",
              "      <td>1.2396</td>\n",
              "      <td>-0.10760</td>\n",
              "      <td>0.8637</td>\n",
              "      <td>False</td>\n",
              "    </tr>\n",
              "    <tr>\n",
              "      <th>2</th>\n",
              "      <td>train</td>\n",
              "      <td>810601</td>\n",
              "      <td>325000</td>\n",
              "      <td>2014-06-01</td>\n",
              "      <td>present</td>\n",
              "      <td>systems engineer</td>\n",
              "      <td>Chennai</td>\n",
              "      <td>f</td>\n",
              "      <td>1992-08-03</td>\n",
              "      <td>85.0</td>\n",
              "      <td>cbse</td>\n",
              "      <td>2010</td>\n",
              "      <td>68.2</td>\n",
              "      <td>cbse</td>\n",
              "      <td>64</td>\n",
              "      <td>2</td>\n",
              "      <td>B.Tech/B.E.</td>\n",
              "      <td>information technology</td>\n",
              "      <td>70.00</td>\n",
              "      <td>64</td>\n",
              "      <td>0</td>\n",
              "      <td>Uttar Pradesh</td>\n",
              "      <td>2014</td>\n",
              "      <td>615</td>\n",
              "      <td>545</td>\n",
              "      <td>370</td>\n",
              "      <td>0.450877</td>\n",
              "      <td>395</td>\n",
              "      <td>-1</td>\n",
              "      <td>-1</td>\n",
              "      <td>-1</td>\n",
              "      <td>-1</td>\n",
              "      <td>-1</td>\n",
              "      <td>-1</td>\n",
              "      <td>0.2718</td>\n",
              "      <td>1.7109</td>\n",
              "      <td>0.1637</td>\n",
              "      <td>-0.86820</td>\n",
              "      <td>0.6721</td>\n",
              "      <td>False</td>\n",
              "    </tr>\n",
              "    <tr>\n",
              "      <th>3</th>\n",
              "      <td>train</td>\n",
              "      <td>267447</td>\n",
              "      <td>1100000</td>\n",
              "      <td>2011-07-01</td>\n",
              "      <td>present</td>\n",
              "      <td>senior software engineer</td>\n",
              "      <td>Gurgaon</td>\n",
              "      <td>m</td>\n",
              "      <td>1989-12-05</td>\n",
              "      <td>85.6</td>\n",
              "      <td>cbse</td>\n",
              "      <td>2007</td>\n",
              "      <td>83.6</td>\n",
              "      <td>cbse</td>\n",
              "      <td>6920</td>\n",
              "      <td>1</td>\n",
              "      <td>B.Tech/B.E.</td>\n",
              "      <td>computer engineering</td>\n",
              "      <td>74.64</td>\n",
              "      <td>6920</td>\n",
              "      <td>1</td>\n",
              "      <td>Delhi</td>\n",
              "      <td>2011</td>\n",
              "      <td>635</td>\n",
              "      <td>585</td>\n",
              "      <td>625</td>\n",
              "      <td>0.974396</td>\n",
              "      <td>615</td>\n",
              "      <td>-1</td>\n",
              "      <td>-1</td>\n",
              "      <td>-1</td>\n",
              "      <td>-1</td>\n",
              "      <td>-1</td>\n",
              "      <td>-1</td>\n",
              "      <td>0.0464</td>\n",
              "      <td>0.3448</td>\n",
              "      <td>-0.3440</td>\n",
              "      <td>-0.40780</td>\n",
              "      <td>-0.9194</td>\n",
              "      <td>True</td>\n",
              "    </tr>\n",
              "    <tr>\n",
              "      <th>4</th>\n",
              "      <td>train</td>\n",
              "      <td>343523</td>\n",
              "      <td>200000</td>\n",
              "      <td>2014-03-01</td>\n",
              "      <td>2015-03-01 00:00:00</td>\n",
              "      <td>get</td>\n",
              "      <td>Manesar</td>\n",
              "      <td>m</td>\n",
              "      <td>1991-02-27</td>\n",
              "      <td>78.0</td>\n",
              "      <td>cbse</td>\n",
              "      <td>2008</td>\n",
              "      <td>76.8</td>\n",
              "      <td>cbse</td>\n",
              "      <td>11368</td>\n",
              "      <td>2</td>\n",
              "      <td>B.Tech/B.E.</td>\n",
              "      <td>electronics and communication engineering</td>\n",
              "      <td>73.90</td>\n",
              "      <td>11368</td>\n",
              "      <td>0</td>\n",
              "      <td>Uttar Pradesh</td>\n",
              "      <td>2012</td>\n",
              "      <td>545</td>\n",
              "      <td>625</td>\n",
              "      <td>465</td>\n",
              "      <td>0.124502</td>\n",
              "      <td>-1</td>\n",
              "      <td>233</td>\n",
              "      <td>-1</td>\n",
              "      <td>-1</td>\n",
              "      <td>-1</td>\n",
              "      <td>-1</td>\n",
              "      <td>-1</td>\n",
              "      <td>-0.8810</td>\n",
              "      <td>-0.2793</td>\n",
              "      <td>-1.0697</td>\n",
              "      <td>0.09163</td>\n",
              "      <td>-0.1295</td>\n",
              "      <td>False</td>\n",
              "    </tr>\n",
              "  </tbody>\n",
              "</table>\n",
              "</div>"
            ],
            "text/plain": [
              "  Unnamed: 0      ID   Salary  ... nueroticism openess_to_experience HighIncome\n",
              "0      train  203097   420000  ...     1.35490               -0.4455      False\n",
              "1      train  579905   500000  ...    -0.10760                0.8637      False\n",
              "2      train  810601   325000  ...    -0.86820                0.6721      False\n",
              "3      train  267447  1100000  ...    -0.40780               -0.9194       True\n",
              "4      train  343523   200000  ...     0.09163               -0.1295      False\n",
              "\n",
              "[5 rows x 40 columns]"
            ]
          },
          "metadata": {
            "tags": []
          },
          "execution_count": 108
        }
      ]
    },
    {
      "cell_type": "code",
      "metadata": {
        "id": "Bxu_uM2JmAJd",
        "outputId": "554cd9e1-d1fd-4c36-b311-04f3b04d4923",
        "colab": {
          "base_uri": "https://localhost:8080/",
          "height": 202
        }
      },
      "source": [
        "df[[\"Salary\",\"HighIncome\",\"Gender\"]].groupby([\"HighIncome\",\"Gender\"]).mean()"
      ],
      "execution_count": 109,
      "outputs": [
        {
          "output_type": "execute_result",
          "data": {
            "text/html": [
              "<div>\n",
              "<style scoped>\n",
              "    .dataframe tbody tr th:only-of-type {\n",
              "        vertical-align: middle;\n",
              "    }\n",
              "\n",
              "    .dataframe tbody tr th {\n",
              "        vertical-align: top;\n",
              "    }\n",
              "\n",
              "    .dataframe thead th {\n",
              "        text-align: right;\n",
              "    }\n",
              "</style>\n",
              "<table border=\"1\" class=\"dataframe\">\n",
              "  <thead>\n",
              "    <tr style=\"text-align: right;\">\n",
              "      <th></th>\n",
              "      <th></th>\n",
              "      <th>Salary</th>\n",
              "    </tr>\n",
              "    <tr>\n",
              "      <th>HighIncome</th>\n",
              "      <th>Gender</th>\n",
              "      <th></th>\n",
              "    </tr>\n",
              "  </thead>\n",
              "  <tbody>\n",
              "    <tr>\n",
              "      <th rowspan=\"2\" valign=\"top\">False</th>\n",
              "      <th>f</th>\n",
              "      <td>271499.454744</td>\n",
              "    </tr>\n",
              "    <tr>\n",
              "      <th>m</th>\n",
              "      <td>272598.433606</td>\n",
              "    </tr>\n",
              "    <tr>\n",
              "      <th rowspan=\"2\" valign=\"top\">True</th>\n",
              "      <th>f</th>\n",
              "      <td>832250.000000</td>\n",
              "    </tr>\n",
              "    <tr>\n",
              "      <th>m</th>\n",
              "      <td>785344.827586</td>\n",
              "    </tr>\n",
              "  </tbody>\n",
              "</table>\n",
              "</div>"
            ],
            "text/plain": [
              "                          Salary\n",
              "HighIncome Gender               \n",
              "False      f       271499.454744\n",
              "           m       272598.433606\n",
              "True       f       832250.000000\n",
              "           m       785344.827586"
            ]
          },
          "metadata": {
            "tags": []
          },
          "execution_count": 109
        }
      ]
    },
    {
      "cell_type": "code",
      "metadata": {
        "id": "yuK6cR8emVJK",
        "outputId": "74bc9b17-5282-471a-836e-70626f223332",
        "colab": {
          "base_uri": "https://localhost:8080/",
          "height": 202
        }
      },
      "source": [
        "df[[\"Salary\",\"HighIncome\",\"Gender\"]].groupby([\"HighIncome\",\"Gender\"]).median()"
      ],
      "execution_count": 110,
      "outputs": [
        {
          "output_type": "execute_result",
          "data": {
            "text/html": [
              "<div>\n",
              "<style scoped>\n",
              "    .dataframe tbody tr th:only-of-type {\n",
              "        vertical-align: middle;\n",
              "    }\n",
              "\n",
              "    .dataframe tbody tr th {\n",
              "        vertical-align: top;\n",
              "    }\n",
              "\n",
              "    .dataframe thead th {\n",
              "        text-align: right;\n",
              "    }\n",
              "</style>\n",
              "<table border=\"1\" class=\"dataframe\">\n",
              "  <thead>\n",
              "    <tr style=\"text-align: right;\">\n",
              "      <th></th>\n",
              "      <th></th>\n",
              "      <th>Salary</th>\n",
              "    </tr>\n",
              "    <tr>\n",
              "      <th>HighIncome</th>\n",
              "      <th>Gender</th>\n",
              "      <th></th>\n",
              "    </tr>\n",
              "  </thead>\n",
              "  <tbody>\n",
              "    <tr>\n",
              "      <th rowspan=\"2\" valign=\"top\">False</th>\n",
              "      <th>f</th>\n",
              "      <td>300000</td>\n",
              "    </tr>\n",
              "    <tr>\n",
              "      <th>m</th>\n",
              "      <td>290000</td>\n",
              "    </tr>\n",
              "    <tr>\n",
              "      <th rowspan=\"2\" valign=\"top\">True</th>\n",
              "      <th>f</th>\n",
              "      <td>652500</td>\n",
              "    </tr>\n",
              "    <tr>\n",
              "      <th>m</th>\n",
              "      <td>620000</td>\n",
              "    </tr>\n",
              "  </tbody>\n",
              "</table>\n",
              "</div>"
            ],
            "text/plain": [
              "                   Salary\n",
              "HighIncome Gender        \n",
              "False      f       300000\n",
              "           m       290000\n",
              "True       f       652500\n",
              "           m       620000"
            ]
          },
          "metadata": {
            "tags": []
          },
          "execution_count": 110
        }
      ]
    },
    {
      "cell_type": "code",
      "metadata": {
        "id": "1Ezo1wYgmaSN",
        "outputId": "8fb982ea-8c27-4915-bff7-daa7f22572ce",
        "colab": {
          "base_uri": "https://localhost:8080/",
          "height": 202
        }
      },
      "source": [
        "df[[\"Salary\",\"HighIncome\",\"Gender\"]].groupby([\"HighIncome\",\"Gender\"]).count()"
      ],
      "execution_count": 111,
      "outputs": [
        {
          "output_type": "execute_result",
          "data": {
            "text/html": [
              "<div>\n",
              "<style scoped>\n",
              "    .dataframe tbody tr th:only-of-type {\n",
              "        vertical-align: middle;\n",
              "    }\n",
              "\n",
              "    .dataframe tbody tr th {\n",
              "        vertical-align: top;\n",
              "    }\n",
              "\n",
              "    .dataframe thead th {\n",
              "        text-align: right;\n",
              "    }\n",
              "</style>\n",
              "<table border=\"1\" class=\"dataframe\">\n",
              "  <thead>\n",
              "    <tr style=\"text-align: right;\">\n",
              "      <th></th>\n",
              "      <th></th>\n",
              "      <th>Salary</th>\n",
              "    </tr>\n",
              "    <tr>\n",
              "      <th>HighIncome</th>\n",
              "      <th>Gender</th>\n",
              "      <th></th>\n",
              "    </tr>\n",
              "  </thead>\n",
              "  <tbody>\n",
              "    <tr>\n",
              "      <th rowspan=\"2\" valign=\"top\">False</th>\n",
              "      <th>f</th>\n",
              "      <td>917</td>\n",
              "    </tr>\n",
              "    <tr>\n",
              "      <th>m</th>\n",
              "      <td>2809</td>\n",
              "    </tr>\n",
              "    <tr>\n",
              "      <th rowspan=\"2\" valign=\"top\">True</th>\n",
              "      <th>f</th>\n",
              "      <td>40</td>\n",
              "    </tr>\n",
              "    <tr>\n",
              "      <th>m</th>\n",
              "      <td>232</td>\n",
              "    </tr>\n",
              "  </tbody>\n",
              "</table>\n",
              "</div>"
            ],
            "text/plain": [
              "                   Salary\n",
              "HighIncome Gender        \n",
              "False      f          917\n",
              "           m         2809\n",
              "True       f           40\n",
              "           m          232"
            ]
          },
          "metadata": {
            "tags": []
          },
          "execution_count": 111
        }
      ]
    },
    {
      "cell_type": "code",
      "metadata": {
        "id": "JiQaM5CLoUv2",
        "outputId": "b7921f23-6579-4d98-996b-140d3c149327",
        "colab": {
          "base_uri": "https://localhost:8080/",
          "height": 35
        }
      },
      "source": [
        "print(\"Low income female percentage : \", 917/(2809+917)*100)"
      ],
      "execution_count": 112,
      "outputs": [
        {
          "output_type": "stream",
          "text": [
            "Low income female percentage :  24.610842726784757\n"
          ],
          "name": "stdout"
        }
      ]
    },
    {
      "cell_type": "code",
      "metadata": {
        "id": "J-nQf4MOohsa",
        "outputId": "e55ff994-1448-4602-9228-63422b2c2a6a",
        "colab": {
          "base_uri": "https://localhost:8080/",
          "height": 35
        }
      },
      "source": [
        "print(\"High income female percentage : \", 40/(232+40)*100)"
      ],
      "execution_count": 113,
      "outputs": [
        {
          "output_type": "stream",
          "text": [
            "High income female percentage :  14.705882352941178\n"
          ],
          "name": "stdout"
        }
      ]
    },
    {
      "cell_type": "markdown",
      "metadata": {
        "id": "hH1DpiyNot05"
      },
      "source": [
        "So the high income is not the case for which female are incoming low salary than male. we found that the percentage of female working in high paying jobs are 10% less. which gives us a good insight"
      ]
    },
    {
      "cell_type": "code",
      "metadata": {
        "id": "opzI_5u4opep",
        "outputId": "8bf72f93-9ff7-4e7d-dc56-905ce7f60bfa",
        "colab": {
          "base_uri": "https://localhost:8080/",
          "height": 35
        }
      },
      "source": [
        "df.CollegeTier.unique()"
      ],
      "execution_count": 114,
      "outputs": [
        {
          "output_type": "execute_result",
          "data": {
            "text/plain": [
              "array([2, 1])"
            ]
          },
          "metadata": {
            "tags": []
          },
          "execution_count": 114
        }
      ]
    },
    {
      "cell_type": "code",
      "metadata": {
        "id": "G_YqBTFBpV_E",
        "outputId": "39aa837b-a6d8-4bb1-80a6-dfbb99852a9b",
        "colab": {
          "base_uri": "https://localhost:8080/",
          "height": 202
        }
      },
      "source": [
        "df[[\"CollegeTier\",\"HighIncome\",\"Salary\"]].groupby([\"HighIncome\",\"CollegeTier\"]).count()"
      ],
      "execution_count": 115,
      "outputs": [
        {
          "output_type": "execute_result",
          "data": {
            "text/html": [
              "<div>\n",
              "<style scoped>\n",
              "    .dataframe tbody tr th:only-of-type {\n",
              "        vertical-align: middle;\n",
              "    }\n",
              "\n",
              "    .dataframe tbody tr th {\n",
              "        vertical-align: top;\n",
              "    }\n",
              "\n",
              "    .dataframe thead th {\n",
              "        text-align: right;\n",
              "    }\n",
              "</style>\n",
              "<table border=\"1\" class=\"dataframe\">\n",
              "  <thead>\n",
              "    <tr style=\"text-align: right;\">\n",
              "      <th></th>\n",
              "      <th></th>\n",
              "      <th>Salary</th>\n",
              "    </tr>\n",
              "    <tr>\n",
              "      <th>HighIncome</th>\n",
              "      <th>CollegeTier</th>\n",
              "      <th></th>\n",
              "    </tr>\n",
              "  </thead>\n",
              "  <tbody>\n",
              "    <tr>\n",
              "      <th rowspan=\"2\" valign=\"top\">False</th>\n",
              "      <th>1</th>\n",
              "      <td>234</td>\n",
              "    </tr>\n",
              "    <tr>\n",
              "      <th>2</th>\n",
              "      <td>3492</td>\n",
              "    </tr>\n",
              "    <tr>\n",
              "      <th rowspan=\"2\" valign=\"top\">True</th>\n",
              "      <th>1</th>\n",
              "      <td>63</td>\n",
              "    </tr>\n",
              "    <tr>\n",
              "      <th>2</th>\n",
              "      <td>209</td>\n",
              "    </tr>\n",
              "  </tbody>\n",
              "</table>\n",
              "</div>"
            ],
            "text/plain": [
              "                        Salary\n",
              "HighIncome CollegeTier        \n",
              "False      1               234\n",
              "           2              3492\n",
              "True       1                63\n",
              "           2               209"
            ]
          },
          "metadata": {
            "tags": []
          },
          "execution_count": 115
        }
      ]
    },
    {
      "cell_type": "code",
      "metadata": {
        "id": "rQLHnVbFpnwL",
        "outputId": "acd89f7e-c098-4984-c3f0-dd1d3fe51542",
        "colab": {
          "base_uri": "https://localhost:8080/",
          "height": 35
        }
      },
      "source": [
        "print(\"Low income 2 tier college percentage : \",3492/(3492+234)*100)"
      ],
      "execution_count": 116,
      "outputs": [
        {
          "output_type": "stream",
          "text": [
            "Low income 2 tier college percentage :  93.71980676328504\n"
          ],
          "name": "stdout"
        }
      ]
    },
    {
      "cell_type": "code",
      "metadata": {
        "id": "j9rtVKFJqb4S",
        "outputId": "baa6e731-5e17-461c-98a8-8f7329f90cc7",
        "colab": {
          "base_uri": "https://localhost:8080/",
          "height": 35
        }
      },
      "source": [
        "print(\"High income 2 tier college percentage : \",209/(209+63)*100)"
      ],
      "execution_count": 117,
      "outputs": [
        {
          "output_type": "stream",
          "text": [
            "High income 2 tier college percentage :  76.83823529411765\n"
          ],
          "name": "stdout"
        }
      ]
    },
    {
      "cell_type": "markdown",
      "metadata": {
        "id": "V3oda1EosWEa"
      },
      "source": [
        "So we cleary see that tier 1 colleges are more effective for high paying jobs"
      ]
    },
    {
      "cell_type": "code",
      "metadata": {
        "id": "J7wpypFOq2Bz",
        "outputId": "b86cc607-d110-41fd-b45a-7dddb6dd7fea",
        "colab": {
          "base_uri": "https://localhost:8080/",
          "height": 202
        }
      },
      "source": [
        "df[[\"CollegeTier\",\"Gender\",\"Salary\"]].groupby([\"CollegeTier\",\"Gender\"]).count()"
      ],
      "execution_count": 118,
      "outputs": [
        {
          "output_type": "execute_result",
          "data": {
            "text/html": [
              "<div>\n",
              "<style scoped>\n",
              "    .dataframe tbody tr th:only-of-type {\n",
              "        vertical-align: middle;\n",
              "    }\n",
              "\n",
              "    .dataframe tbody tr th {\n",
              "        vertical-align: top;\n",
              "    }\n",
              "\n",
              "    .dataframe thead th {\n",
              "        text-align: right;\n",
              "    }\n",
              "</style>\n",
              "<table border=\"1\" class=\"dataframe\">\n",
              "  <thead>\n",
              "    <tr style=\"text-align: right;\">\n",
              "      <th></th>\n",
              "      <th></th>\n",
              "      <th>Salary</th>\n",
              "    </tr>\n",
              "    <tr>\n",
              "      <th>CollegeTier</th>\n",
              "      <th>Gender</th>\n",
              "      <th></th>\n",
              "    </tr>\n",
              "  </thead>\n",
              "  <tbody>\n",
              "    <tr>\n",
              "      <th rowspan=\"2\" valign=\"top\">1</th>\n",
              "      <th>f</th>\n",
              "      <td>51</td>\n",
              "    </tr>\n",
              "    <tr>\n",
              "      <th>m</th>\n",
              "      <td>246</td>\n",
              "    </tr>\n",
              "    <tr>\n",
              "      <th rowspan=\"2\" valign=\"top\">2</th>\n",
              "      <th>f</th>\n",
              "      <td>906</td>\n",
              "    </tr>\n",
              "    <tr>\n",
              "      <th>m</th>\n",
              "      <td>2795</td>\n",
              "    </tr>\n",
              "  </tbody>\n",
              "</table>\n",
              "</div>"
            ],
            "text/plain": [
              "                    Salary\n",
              "CollegeTier Gender        \n",
              "1           f           51\n",
              "            m          246\n",
              "2           f          906\n",
              "            m         2795"
            ]
          },
          "metadata": {
            "tags": []
          },
          "execution_count": 118
        }
      ]
    },
    {
      "cell_type": "code",
      "metadata": {
        "id": "o-20ncRDr5tN",
        "outputId": "eed2edea-f41a-4c20-f0e1-61888b81495d",
        "colab": {
          "base_uri": "https://localhost:8080/",
          "height": 35
        }
      },
      "source": [
        "print(\"1 tier College female percentage : \", 51/(246+51)*100)"
      ],
      "execution_count": 119,
      "outputs": [
        {
          "output_type": "stream",
          "text": [
            "1 tier College female percentage :  17.17171717171717\n"
          ],
          "name": "stdout"
        }
      ]
    },
    {
      "cell_type": "code",
      "metadata": {
        "id": "z35BTNWUsHHh",
        "outputId": "293b9985-0634-4c2b-9800-ab6344ec795b",
        "colab": {
          "base_uri": "https://localhost:8080/",
          "height": 35
        }
      },
      "source": [
        "print(\"2 tier College female percentage : \", 906/(906+2795)*100)"
      ],
      "execution_count": 120,
      "outputs": [
        {
          "output_type": "stream",
          "text": [
            "2 tier College female percentage :  24.479870305322883\n"
          ],
          "name": "stdout"
        }
      ]
    },
    {
      "cell_type": "markdown",
      "metadata": {
        "id": "rsBoT21RsUEp"
      },
      "source": [
        "We cleary see that the percentage of female candidates are much lower in high paying jobs althogh there is a inequality of female and male candidate in our dataset.\n",
        "\n",
        "But it might be a cause that female are not getting high salary.\n",
        "\n",
        "\n",
        "---\n",
        "\n",
        "\n",
        "**So we can suggest that , if we encourage female to join the high tier college then there could be a possibility to balance the salary inequality**"
      ]
    },
    {
      "cell_type": "code",
      "metadata": {
        "id": "c2rIlDGXsP87"
      },
      "source": [
        ""
      ],
      "execution_count": 120,
      "outputs": []
    }
  ]
}